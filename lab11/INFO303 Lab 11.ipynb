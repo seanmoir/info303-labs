{
 "cells": [
  {
   "cell_type": "markdown",
   "metadata": {},
   "source": [
    "# Jupyter notebook for INFO303 Lab 11: Apache Spark\n",
    "\n",
    "In this notebook you can enter one or more lines of Python 3 code inside each \"cell\". `Control-Enter` or `Shift-Enter` then runs that code, and the result of executing the last line (if there is any output) is shown underneath. If you use `Shift-Enter` the cursor is also moved to the next cell. A new cell is added when you run the last one. *Note:* If you see `[*]` to the left of a cell being run, the code is still running.\n",
    "\n",
    "You can save your progress using File > Save and Checkpoint.\n",
    "\n",
    "**Lab 11 and the terms requirement**\n",
    "* As you run the code cells below, Jupyter will add the code's output to this notebook. Saving that modified version of the notebook to your lab11 repository folder (and committing and pushing it) will satisfy the terms requirement.\n",
    "\n",
    "**When you have finished these exercises:**\n",
    "* Save your changes to the notebook into your lab11 folder by selecting `Download as` from the Jupyter File menu above. Select `Notebook (.ipynb)` to get a copy of the notebook with your output, that can be pushed to GitBucket. This can also be run and edited in the future. However, it is an XML file, so is not easy to read. If you want an easily readable (but non-interactive) version, select `HTML (.html)`. You may want to download both versions.\n",
    "* Don't forget to commit and push your changed notebook to the GitBucket repository if you wish this lab to count towards the terms requirement.\n",
    "* Select File > Close and Halt above and then close the browser window. Don't worry if you get error messages displayed in the SSH terminal window in which you entered the `docker-compose up` command. Type `Control-C` in the SSH window, and then enter `poweroff & exit` to shut down the virtual machine and close the SSH window. Finally, close VirtualBox.\n",
    "\n",
    "<a id='links'></a>\n",
    "## Useful links\n",
    "\n",
    " * [Spark RDD programming guide](https://spark.apache.org/docs/latest/rdd-programming-guide.html)\n",
    " * [Python API documentation for the RDD class](https://spark.apache.org/docs/latest/api/python/pyspark.html#pyspark.RDD)\n",
    " * [Spark SQL, DataFrames and Datasets Guide](https://spark.apache.org/docs/latest/sql-programming-guide.html)\n",
    " * [Python API documentation for the DataFrame class](https://spark.apache.org/docs/latest/api/python/pyspark.sql.html#pyspark.sql.DataFrame)\n",
    " * [Python 3.7 standard library (standard datatypes and functions)](https://docs.python.org/3.7/library/)\n"
   ]
  },
  {
   "cell_type": "markdown",
   "metadata": {},
   "source": [
    "## Exercise 1: Exploring the Shakespeare data set\n",
    "\n",
    "In this exercise we will be using a data file containing the complete works of  William Shakespeare (plays and poems). If you did not upload the data file `shakespeare.txt` before opening this notebook, return (temporarily) to the original browswer tab showing http://127.0.0.1:8080/tree, click on Upload, and open that file from wherever you downloaded it to from Blackboard. Confirm the upload by clicking on the blue Upload button that appears.\n",
    "\n",
    "To see what's in the data file, return (temporarily) to the original browswer tab showing http://127.0.0.1:8080/tree, and click on New<sub>&#9660;</sub> and select Terminal. In the resulting new tab (showing a Linux terminal prompt) enter:\n",
    "\n",
    "```\n",
    "more shakespeare.txt\n",
    "```\n",
    "\n",
    "Press the space bar to see each new page of text, and q when you have seen enough.\n",
    "\n",
    "**Back in this notebook**\n",
    "\n",
    "To query the Shakespeare data using Spark, run the code in each of the following cells (click on a cell and then type `Control-Enter` or `Shift-Enter`). Then look at the output, and try to understand what the code is doing.\n",
    "\n",
    "First, note that the variable `sc` is predefined to hold a reference to a \"Spark Context\" object. This is configured to use as many Spark \"worker\" or \"executor\" processes as there are logical cores on the computer. Spark can also be configured to use workers running on external computers in a cluster, but we are not doing that for this lab."
   ]
  },
  {
   "cell_type": "code",
   "execution_count": 1,
   "metadata": {},
   "outputs": [
    {
     "data": {
      "text/html": [
       "\n",
       "        <div>\n",
       "            <p><b>SparkContext</b></p>\n",
       "\n",
       "            <p><a href=\"http://c028139451f5:4040\">Spark UI</a></p>\n",
       "\n",
       "            <dl>\n",
       "              <dt>Version</dt>\n",
       "                <dd><code>v2.4.5</code></dd>\n",
       "              <dt>Master</dt>\n",
       "                <dd><code>local[*]</code></dd>\n",
       "              <dt>AppName</dt>\n",
       "                <dd><code>PySparkShell</code></dd>\n",
       "            </dl>\n",
       "        </div>\n",
       "        "
      ],
      "text/plain": [
       "<SparkContext master=local[*] appName=PySparkShell>"
      ]
     },
     "execution_count": 1,
     "metadata": {},
     "output_type": "execute_result"
    }
   ],
   "source": [
    "sc"
   ]
  },
  {
   "cell_type": "markdown",
   "metadata": {},
   "source": [
    "Now load the data."
   ]
  },
  {
   "cell_type": "code",
   "execution_count": 2,
   "metadata": {},
   "outputs": [
    {
     "data": {
      "text/plain": [
       "shakespeare.txt MapPartitionsRDD[1] at textFile at NativeMethodAccessorImpl.java:0"
      ]
     },
     "execution_count": 2,
     "metadata": {},
     "output_type": "execute_result"
    }
   ],
   "source": [
    "lines = sc.textFile('shakespeare.txt')\n",
    "lines"
   ]
  },
  {
   "cell_type": "markdown",
   "metadata": {},
   "source": [
    "The variable `lines` now holds a reference to an object of class RDD: a *resilient distributed dataset*. The RDD will be associated with the file, but because Spark uses lazy execution, the file won't be read yet (you can see that by adding some extra characters to the file name - Spark won't yet realise that the file doesn't exist). When it is read, the dataset will be automatically partitioned, with each partition held in memory in one of the executor processes.\n",
    "\n",
    "Now let's ask Spark to count the lines of data in the file. It will create the RDD (possibly giving an error message if the file doesn't exist), and then return the answer."
   ]
  },
  {
   "cell_type": "code",
   "execution_count": 3,
   "metadata": {},
   "outputs": [
    {
     "data": {
      "text/plain": [
       "175436"
      ]
     },
     "execution_count": 3,
     "metadata": {},
     "output_type": "execute_result"
    }
   ],
   "source": [
    "lines.count()"
   ]
  },
  {
   "cell_type": "markdown",
   "metadata": {},
   "source": [
    "The cell below calls the `take(n)` method. This retrieves the first *n* data items from the RDD and returns them in a Python list (so the list must be small enough to fit into memory)."
   ]
  },
  {
   "cell_type": "code",
   "execution_count": 4,
   "metadata": {},
   "outputs": [
    {
     "data": {
      "text/plain": [
       "['hamlet@0\\t\\tHAMLET',\n",
       " 'hamlet@8\\t',\n",
       " 'hamlet@9\\t',\n",
       " 'hamlet@10\\t\\tDRAMATIS PERSONAE',\n",
       " 'hamlet@29\\t',\n",
       " 'hamlet@30\\t',\n",
       " 'hamlet@31\\tCLAUDIUS\\tking of Denmark. (KING CLAUDIUS:)',\n",
       " 'hamlet@74\\t',\n",
       " 'hamlet@75\\tHAMLET\\tson to the late, and nephew to the present king.',\n",
       " 'hamlet@131\\t']"
      ]
     },
     "execution_count": 4,
     "metadata": {},
     "output_type": "execute_result"
    }
   ],
   "source": [
    "lines.take(10)"
   ]
  },
  {
   "cell_type": "markdown",
   "metadata": {},
   "source": [
    "Note: `u'Some text'` is Python's way of writing the string \"Some text\". The `u` tells us that the String is encoded using Unicode. `\\t` represents a tab character.\n",
    "\n",
    "Note that each line begins with a *key*, which is the name of the work (a play or poem) followed by \"@\" and a byte offset from the start of the work.\n",
    "\n",
    "Now let's see how the data has been partitioned by Spark."
   ]
  },
  {
   "cell_type": "code",
   "execution_count": 5,
   "metadata": {},
   "outputs": [
    {
     "data": {
      "text/plain": [
       "2"
      ]
     },
     "execution_count": 5,
     "metadata": {},
     "output_type": "execute_result"
    }
   ],
   "source": [
    "lines.getNumPartitions()"
   ]
  },
  {
   "cell_type": "markdown",
   "metadata": {},
   "source": [
    "The result of `getNumPartitions` may show that the data has been broken up into separate partitions by Spark. The number of partitions would be larger if you were running this code on a Spark cluster rather than a single machine, and if the dataset were larger.\n",
    "\n",
    "Next, to see the range of methods that are available to be called on an RDD object, position the cursor after the '`.`' in the cell below and press the tab key (you may need to delete and re-enter the \".\" for this to work, and it may be slow to respond). Use the Page Down key to see all the methods, and `Esc` to close the list. If you want to read what these methods do, see the [documentation for the DataFrame class](https://spark.apache.org/docs/latest/api/python/pyspark.sql.html#pyspark.sql.DataFrame).\n",
    "\n",
    "**Note: You don't need to *run* the cell below (using Control-Enter` or `Shift-Enter), but if you do, you will get an error message unless you complete the line to call one of the RDD class's methods with valid arguments.**"
   ]
  },
  {
   "cell_type": "code",
   "execution_count": null,
   "metadata": {},
   "outputs": [],
   "source": [
    "lines."
   ]
  },
  {
   "cell_type": "markdown",
   "metadata": {},
   "source": [
    "Now let's get rid of the key at the start of each line in the data set. Compare the result of the code below with that from `lines.take(10)` above. The `map` method takes a function as an argument and applies it to each item in the data set (in this case, a line of text). A new RDD is returned with each item replaced by its mapped value. Here we do the mapping using an unnamed \"lambda function\" that takes one parameter (`line`) and returns the value after the \":\". That is the result of splitting the line into two substrings using the first tab character as the separator, and then returning the second substring (which has index 1 because in Python, like Java, lists begin at index 0)."
   ]
  },
  {
   "cell_type": "code",
   "execution_count": 6,
   "metadata": {},
   "outputs": [
    {
     "data": {
      "text/plain": [
       "['\\tHAMLET',\n",
       " '',\n",
       " '',\n",
       " '\\tDRAMATIS PERSONAE',\n",
       " '',\n",
       " '',\n",
       " 'CLAUDIUS\\tking of Denmark. (KING CLAUDIUS:)',\n",
       " '',\n",
       " 'HAMLET\\tson to the late, and nephew to the present king.',\n",
       " '']"
      ]
     },
     "execution_count": 6,
     "metadata": {},
     "output_type": "execute_result"
    }
   ],
   "source": [
    "lines2 = lines.map(lambda line: line.split('\\t',1)[1])\n",
    "lines2.take(10)"
   ]
  },
  {
   "cell_type": "markdown",
   "metadata": {},
   "source": [
    "Python's `lambda` notation is very useful for passing short unnamed functions to other functions like map and reduce. The notation is:\n",
    "\n",
    "  `lambda` *arg1*, ..., *argn*`:` *SomeExpressionUsingTheArguments*\n",
    "\n",
    "The expression is evaluated and its result is returned when the function is called.\n",
    "\n",
    "Below we create a new RDD named `scenes` that contains the descriptions of the scenes in all the plays. The RDD class's `filter` method takes a Boolean-valued function as an argument and includes in its result only the items for which the function returns `true`. The `collect` method retrieves all data from an RDD and returns it in a Python list (so it should only be used when the RDD is small enough to fit into memory on the local computer). You can read about these, and other, RDD functions at https://spark.apache.org/docs/latest/api/python/pyspark.html#pyspark.RDD (which is also listed under [Useful Links](#links) above)."
   ]
  },
  {
   "cell_type": "code",
   "execution_count": 7,
   "metadata": {},
   "outputs": [
    {
     "data": {
      "text/plain": [
       "['SCENE I\\tElsinore. A platform before the castle.',\n",
       " 'SCENE II\\tA room of state in the castle.',\n",
       " \"SCENE III\\tA room in Polonius' house.\",\n",
       " 'SCENE IV\\tThe platform.',\n",
       " 'SCENE V\\tAnother part of the platform.',\n",
       " \"SCENE I\\tA room in POLONIUS' house.\",\n",
       " 'SCENE II\\tA room in the castle.',\n",
       " 'SCENE I\\tA room in the castle.',\n",
       " 'SCENE II\\tA hall in the castle.',\n",
       " 'SCENE III\\tA room in the castle.',\n",
       " \"SCENE IV\\tThe Queen's closet.\",\n",
       " 'SCENE I\\tA room in the castle.',\n",
       " 'SCENE II\\tAnother room in the castle.',\n",
       " 'SCENE III\\tAnother room in the castle.',\n",
       " 'SCENE IV\\tA plain in Denmark.',\n",
       " 'SCENE V\\tElsinore. A room in the castle.',\n",
       " 'SCENE VI\\tAnother room in the castle.',\n",
       " 'SCENE VII\\tAnother room in the castle.',\n",
       " 'SCENE I\\tA churchyard.',\n",
       " 'SCENE II\\tA hall in the castle.',\n",
       " 'SCENE I\\tLondon. A street.',\n",
       " 'SCENE II\\tThe same. Another street.',\n",
       " 'SCENE III\\tThe palace.',\n",
       " 'SCENE IV\\tLondon. The Tower.',\n",
       " 'SCENE I\\tLondon. The palace.',\n",
       " 'SCENE II\\tThe palace.',\n",
       " 'SCENE III\\tLondon. A street.',\n",
       " 'SCENE IV\\tLondon. The palace.',\n",
       " 'SCENE I\\tLondon. A street.',\n",
       " \"SCENE II\\tBefore Lord Hastings' house.\",\n",
       " 'SCENE III\\tPomfret Castle.',\n",
       " 'SCENE IV\\tThe Tower of London.',\n",
       " 'SCENE V\\tThe Tower-walls.',\n",
       " 'SCENE VI\\tThe same.',\n",
       " \"SCENE VII\\tBaynard's Castle.\",\n",
       " 'SCENE I\\tBefore the Tower.',\n",
       " 'SCENE II\\tLondon. The palace.',\n",
       " 'SCENE III\\tThe same.',\n",
       " 'SCENE IV\\tBefore the palace.',\n",
       " \"SCENE V\\tLord Derby's house.\",\n",
       " 'SCENE I\\tSalisbury. An open place.',\n",
       " 'SCENE II\\tThe camp near Tamworth.',\n",
       " 'SCENE III\\tBosworth Field.',\n",
       " 'SCENE IV\\tAnother part of the field.',\n",
       " 'SCENE V\\tAnother part of the field.',\n",
       " 'SCENE I\\tRome. A street.',\n",
       " 'SCENE II\\tCorioli. The Senate-house.',\n",
       " \"SCENE III\\tRome. A room in Marcius' house.\",\n",
       " 'SCENE IV\\tBefore Corioli.',\n",
       " 'SCENE V\\tCorioli. A street.',\n",
       " 'SCENE VI\\tNear the camp of Cominius.',\n",
       " 'SCENE VII\\tThe gates of Corioli.',\n",
       " 'SCENE VIII\\tA field of battle.',\n",
       " 'SCENE IX\\tThe Roman camp.',\n",
       " 'SCENE X\\tThe camp of the Volsces.',\n",
       " 'SCENE I\\tRome. A public place.',\n",
       " 'SCENE  II\\tThe same. The Capitol.',\n",
       " 'SCENE III\\tThe same. The Forum.',\n",
       " 'SCENE I\\tRome. A street.',\n",
       " \"SCENE II\\tA room in CORIOLANUS'S house.\",\n",
       " 'SCENE III\\tThe same. The Forum.',\n",
       " 'SCENE I\\tRome. Before a gate of the city.',\n",
       " 'SCENE II\\tThe same. A  street near the gate.',\n",
       " 'SCENE III\\tA highway between Rome and Antium.',\n",
       " \"SCENE IV\\tAntium. Before Aufidius's house.\",\n",
       " \"SCENE V\\tThe same. A hall in Aufidius's house.\",\n",
       " 'SCENE VI\\tRome. A public place.',\n",
       " 'SCENE VII\\tA camp, at a small distance from Rome.',\n",
       " 'SCENE I\\tRome. A public place.',\n",
       " 'SCENE II\\tEntrance of the Volscian camp before Rome.',\n",
       " 'SCENE III\\tThe tent of Coriolanus.',\n",
       " 'SCENE IV\\tRome. A public place.',\n",
       " 'SCENE V\\tThe same. A street near the gate.',\n",
       " 'SCENE VI\\tAntium. A public place.',\n",
       " \"SCENE I\\tBritain. The garden of Cymbeline's palace.\",\n",
       " 'SCENE II\\tThe same. A public place.',\n",
       " \"SCENE III\\tA room in Cymbeline's palace.\",\n",
       " \"SCENE IV\\tRome. Philario's house.\",\n",
       " \"SCENE V\\tBritain. A room in Cymbeline's palace.\",\n",
       " 'SCENE VI\\tThe same. Another room in the palace.',\n",
       " \"SCENE I\\tBritain. Before Cymbeline's palace.\",\n",
       " \"SCENE II\\tImogen's bedchamber in Cymbeline's palace:\",\n",
       " \"SCENE III\\tAn ante-chamber adjoining Imogen's apartments.\",\n",
       " \"SCENE IV\\tRome. Philario's house.\",\n",
       " \"SCENE V\\tAnother room in Philario's house.\",\n",
       " \"SCENE I\\tBritain. A hall in Cymbeline's palace.\",\n",
       " 'SCENE II\\tAnother room in the palace.',\n",
       " 'SCENE III\\tWales: a mountainous country with a cave.',\n",
       " 'SCENE IV\\tCountry near Milford-Haven.',\n",
       " \"SCENE V\\tA room in Cymbeline's palace.\",\n",
       " 'SCENE VI\\tWales. Before the cave of Belarius.',\n",
       " 'SCENE VII\\tRome. A public place.',\n",
       " 'SCENE I\\tWales: near the cave of Belarius.',\n",
       " 'SCENE II\\tBefore the cave of Belarius.',\n",
       " \"SCENE III\\tA room in Cymbeline's palace.\",\n",
       " 'SCENE IV\\tWales: before the cave of Belarius.',\n",
       " 'SCENE I\\tBritain. The Roman camp.',\n",
       " 'SCENE II\\tField of battle between the British and Roman camps.',\n",
       " 'SCENE III\\tAnother part of the field.',\n",
       " 'SCENE IV\\tA British prison.',\n",
       " \"SCENE V\\tCymbeline's tent.\",\n",
       " \"SCENE I\\tTroy. Before Priam's palace.\",\n",
       " 'SCENE II\\tThe Same. A street.',\n",
       " \"SCENE III\\tThe Grecian camp. Before Agamemnon's tent.\",\n",
       " 'SCENE I\\tA part of the Grecian camp.',\n",
       " \"SCENE II\\tTroy. A room in Priam's palace.\",\n",
       " \"SCENE III\\tThe Grecian camp. Before Achilles' tent.\",\n",
       " \"SCENE I\\tTroy. Priam's palace.\",\n",
       " \"SCENE II\\tThe same. Pandarus' orchard.\",\n",
       " \"SCENE III\\tThe Grecian camp. Before Achilles' tent.\",\n",
       " 'SCENE I\\tTroy. A street.',\n",
       " \"SCENE II\\tThe same. Court of Pandarus' house.\",\n",
       " \"SCENE III\\tThe same. Street before Pandarus' house.\",\n",
       " \"SCENE IV\\tThe same. Pandarus' house.\",\n",
       " 'SCENE V\\tThe Grecian camp. Lists set out.',\n",
       " \"SCENE I\\tThe Grecian camp. Before Achilles' tent.\",\n",
       " \"SCENE II\\tThe same. Before Calchas' tent.\",\n",
       " \"SCENE III\\tTroy. Before Priam's palace.\",\n",
       " 'SCENE IV\\tPlains between Troy and the Grecian camp.',\n",
       " 'SCENE V\\tAnother part of the plains.',\n",
       " 'SCENE VI\\tAnother part of the plains.',\n",
       " 'SCENE VII\\tAnother part of the plains.',\n",
       " 'SCENE VIII\\tAnother part of the plains.',\n",
       " 'SCENE IX\\tAnother part of the plains.',\n",
       " 'SCENE X\\tAnother part of the plains.',\n",
       " \"SCENE I\\tAlexandria. A room in CLEOPATRA's palace.\",\n",
       " 'SCENE II\\tThe same. Another room.',\n",
       " 'SCENE III\\tThe same. Another room.',\n",
       " \"SCENE IV\\tRome. OCTAVIUS CAESAR's house.\",\n",
       " \"SCENE V\\tAlexandria. CLEOPATRA's palace.\",\n",
       " \"SCENE I\\tMessina. POMPEY's house.\",\n",
       " 'SCENE II\\tRome. The house of LEPIDUS.',\n",
       " \"SCENE III\\tThe same. OCTAVIUS CAESAR's house.\",\n",
       " 'SCENE IV\\tThe same. A street.',\n",
       " \"SCENE V\\tAlexandria. CLEOPATRA's palace.\",\n",
       " 'SCENE VI\\tNear Misenum.',\n",
       " \"SCENE VII\\tOn board POMPEY's galley, off Misenum.\",\n",
       " 'SCENE I\\tA plain in Syria.',\n",
       " \"SCENE II\\tRome. An ante-chamber in OCTAVIUS CAESAR's house.\",\n",
       " \"SCENE III\\tAlexandria. CLEOPATRA's palace.\",\n",
       " \"SCENE IV\\tAthens. A room in MARK ANTONY's house.\",\n",
       " 'SCENE V\\tThe same. Another room.',\n",
       " \"SCENE VI\\tRome. OCTAVIUS CAESAR's house.\",\n",
       " \"SCENE VII\\tNear Actium. MARK ANTONY's camp.\",\n",
       " 'SCENE VIII\\tA plain near Actium.',\n",
       " 'SCENE IX\\tAnother part of the plain.',\n",
       " 'SCENE X\\tAnother part of the plain.',\n",
       " \"SCENE XI\\tAlexandria. CLEOPATRA's palace.\",\n",
       " \"SCENE XII\\tEgypt. OCTAVIUS CAESAR's camp.\",\n",
       " \"SCENE XIII\\tAlexandria. CLEOPATRA's palace.\",\n",
       " \"SCENE I\\tBefore Alexandria. OCTAVIUS CAESAR's camp.\",\n",
       " \"SCENE II\\tAlexandria. CLEOPATRA's palace.\",\n",
       " 'SCENE III\\tThe same. Before the palace.',\n",
       " 'SCENE IV\\tThe same. A room in the palace.',\n",
       " \"SCENE V\\tAlexandria. MARK ANTONY's camp.\",\n",
       " \"SCENE VI\\tAlexandria. OCTAVIUS CAESAR's camp.\",\n",
       " 'SCENE VII\\tField of battle between the camps.',\n",
       " 'SCENE VIII\\tUnder the walls of Alexandria.',\n",
       " \"SCENE IX\\tOCTAVIUS CAESAR's camp.\",\n",
       " 'SCENE X\\tBetween the two camps.',\n",
       " 'SCENE XI\\tAnother part of the same.',\n",
       " 'SCENE XII\\tAnother part of the same.',\n",
       " \"SCENE XIII\\tAlexandria. Cleopatra's palace.\",\n",
       " 'SCENE XIV\\tThe same. Another room.',\n",
       " 'SCENE XV\\tThe same. A monument.',\n",
       " \"SCENE I\\tAlexandria. OCTAVIUS CAESAR's camp.\",\n",
       " 'SCENE II\\tAlexandria. A room in the monument.',\n",
       " 'SCENE I\\tThe same.',\n",
       " 'SCENE II\\tLondon. A street.',\n",
       " \"SCENE III\\tYork. The Archbishop's palace.\",\n",
       " 'SCENE I\\tLondon. A street.',\n",
       " 'SCENE II\\tLondon. Another street.',\n",
       " 'SCENE III\\tWarkworth. Before the castle.',\n",
       " \"SCENE IV\\tLondon. The Boar's-head Tavern in Eastcheap.\",\n",
       " 'SCENE I\\tWestminster. The palace.',\n",
       " \"SCENE II\\tGloucestershire. Before SHALLOW'S house.\",\n",
       " 'SCENE I\\tYorkshire. Gaultree Forest.',\n",
       " 'SCENE II\\tAnother part of the forest.',\n",
       " 'SCENE III\\tAnother part of the forest.',\n",
       " 'SCENE IV\\tWestminster. The Jerusalem Chamber.',\n",
       " 'SCENE V\\tAnother chamber.',\n",
       " \"SCENE I\\tGloucestershire. SHALLOW'S house.\",\n",
       " 'SCENE II\\tWestminster. The palace.',\n",
       " \"SCENE III\\tGloucestershire. SHALLOW'S orchard.\",\n",
       " 'SCENE IV\\tLondon. A street.',\n",
       " 'SCENE V\\tA public place near Westminster Abbey.',\n",
       " \"SCENE I\\tKing Lear's palace.\",\n",
       " \"SCENE II\\tThe Earl of Gloucester's castle.\",\n",
       " \"SCENE III\\tThe Duke of Albany's palace.\",\n",
       " 'SCENE IV\\tA hall in the same.',\n",
       " 'SCENE V\\tCourt before the same.',\n",
       " \"SCENE I\\tGLOUCESTER's castle.\",\n",
       " \"SCENE II\\tBefore Gloucester's castle.\",\n",
       " 'SCENE III\\tA wood.',\n",
       " \"SCENE IV\\tBefore GLOUCESTER's castle. KENT in the stocks.\",\n",
       " 'SCENE I\\tA heath.',\n",
       " 'SCENE II\\tAnother part of the heath. Storm still.',\n",
       " \"SCENE III\\tGloucester's castle.\",\n",
       " 'SCENE IV\\tThe heath. Before a hovel.',\n",
       " \"SCENE V\\tGloucester's castle.\",\n",
       " 'SCENE VI\\tA chamber in a farmhouse adjoining the castle.',\n",
       " \"SCENE VII\\tGloucester's castle.\",\n",
       " 'SCENE I\\tThe heath.',\n",
       " \"SCENE II\\tBefore ALBANY's palace.\",\n",
       " 'SCENE III\\tThe French camp near Dover.',\n",
       " 'SCENE IV\\tThe same. A tent.',\n",
       " \"SCENE V\\tGloucester's castle.\",\n",
       " 'SCENE VI\\tFields near Dover.',\n",
       " 'SCENE VII\\tA tent in the French camp. LEAR on a bed asleep,',\n",
       " 'SCENE I\\tThe British camp, near Dover.',\n",
       " 'SCENE II\\tA field between the two camps.',\n",
       " 'SCENE III\\tThe British camp near Dover.',\n",
       " 'SCENE I\\tVenice. A street.',\n",
       " 'SCENE II\\tAnother street.',\n",
       " 'SCENE III\\tA council-chamber.',\n",
       " 'SCENE I\\tA Sea-port in Cyprus. An open place near the quay.',\n",
       " 'SCENE II\\tA street.',\n",
       " 'SCENE III\\tA hall in the castle.',\n",
       " 'SCENE I\\tBefore the castle.',\n",
       " 'SCENE II\\tA room in the castle.',\n",
       " 'SCENE III\\tThe garden of the castle.',\n",
       " 'SCENE IV\\tBefore the castle.',\n",
       " 'SCENE I\\tCyprus. Before the castle.',\n",
       " 'SCENE II\\tA room in the castle.',\n",
       " 'SCENE III\\tAnother room in the castle.',\n",
       " 'SCENE I\\tCyprus. A street.',\n",
       " 'SCENE II\\tA bedchamber in the castle: DESDEMONA in bed asleep;',\n",
       " \"SCENE I\\tLondon. An ante-chamber in the KING'S palace.\",\n",
       " 'SCENE II\\tThe same. The Presence chamber.',\n",
       " 'SCENE I\\tLondon. A street.',\n",
       " 'SCENE II\\tSouthampton. A council-chamber.',\n",
       " 'SCENE III\\tLondon. Before a tavern.',\n",
       " \"SCENE IV\\tFrance. The KING'S palace.\",\n",
       " 'SCENE I\\tFrance. Before Harfleur.',\n",
       " 'SCENE II\\tThe same.',\n",
       " 'SCENE III\\tThe same. Before the gates.',\n",
       " \"SCENE IV\\tThe FRENCH KING's palace.\",\n",
       " 'SCENE V\\tThe same.',\n",
       " 'SCENE VI\\tThe English camp in Picardy.',\n",
       " 'SCENE VII\\tThe French camp, near Agincourt:',\n",
       " 'SCENE I\\tThe English camp at Agincourt.',\n",
       " 'SCENE II\\tThe French camp.',\n",
       " 'SCENE III\\tThe English camp.',\n",
       " 'SCENE IV\\tThe field of battle.',\n",
       " 'SCENE V\\tAnother part of the field.',\n",
       " 'SCENE VI\\tAnother part of the field.',\n",
       " 'SCENE VII\\tAnother part of the field.',\n",
       " \"SCENE VIII\\tBefore KING HENRY'S pavilion.\",\n",
       " 'SCENE I\\tFrance. The English camp.',\n",
       " 'SCENE II\\tFrance. A royal palace.',\n",
       " 'SCENE I\\tLondon. The palace.',\n",
       " \"SCENE II\\tGLOUCESTER'S house.\",\n",
       " 'SCENE III\\tThe palace.',\n",
       " \"SCENE IV\\tGLOUCESTER's garden.\",\n",
       " \"SCENE I\\tSaint Alban's.\",\n",
       " \"SCENE II\\tLondon. YORK'S garden.\",\n",
       " 'SCENE III\\tA hall of justice.',\n",
       " 'SCENE IV\\tA street.',\n",
       " \"SCENE I\\tThe Abbey at Bury St. Edmund's.\",\n",
       " \"SCENE II\\tBury St. Edmund's. A room of state.\",\n",
       " 'SCENE III\\tA bedchamber.',\n",
       " 'SCENE I\\tThe coast of Kent.',\n",
       " 'SCENE II\\tBlackheath.',\n",
       " 'SCENE III\\tAnother part of Blackheath.',\n",
       " 'SCENE IV\\tLondon. The palace.',\n",
       " 'SCENE V\\tLondon. The Tower.',\n",
       " 'SCENE VI\\tLondon. Cannon Street.',\n",
       " 'SCENE VII\\tLondon. Smithfield.',\n",
       " 'SCENE VIII\\tSouthwark.',\n",
       " 'SCENE IX\\tKenilworth Castle.',\n",
       " \"SCENE X\\tKent. IDEN's garden.\",\n",
       " 'SCENE I\\tFields between Dartford and Blackheath.',\n",
       " \"SCENE II\\tSaint Alban's.\",\n",
       " \"SCENE III\\tFields near St. Alban's.\",\n",
       " 'SCENE I\\tLondon. An ante-chamber in the palace.',\n",
       " 'SCENE II\\tThe same. The council-chamber.',\n",
       " 'SCENE III\\tAn ante-chamber in the palace.',\n",
       " 'SCENE IV\\tA Hall in York Place.',\n",
       " 'SCENE I\\tWestminster. A street.',\n",
       " 'SCENE II\\tAn ante-chamber in the palace.',\n",
       " \"SCENE III\\tAn ante-chamber of the QUEEN'S apartments.\",\n",
       " 'SCENE IV\\tA hall in Black-Friars.',\n",
       " \"SCENE I\\tLondon. QUEEN KATHARINE's apartments.\",\n",
       " \"SCENE II\\tAnte-chamber to KING HENRY VIII's apartment.\",\n",
       " 'SCENE I\\tA street in Westminster.',\n",
       " 'SCENE II\\tKimbolton.',\n",
       " 'SCENE I\\tLondon. A gallery in the palace.',\n",
       " 'SCENE II\\tBefore the council-chamber. Pursuivants, Pages, &c.',\n",
       " 'SCENE III\\tThe Council-Chamber.',\n",
       " 'SCENE IV\\tThe palace yard.',\n",
       " 'SCENE V\\tThe palace.',\n",
       " 'SCENE I\\tLondon. The Parliament-house.',\n",
       " 'SCENE II\\tSandal Castle.',\n",
       " 'SCENE III\\tField of battle betwixt Sandal Castle and Wakefield.',\n",
       " 'SCENE IV\\tAnother part of the field.',\n",
       " \"SCENE I\\tA plain near Mortimer's Cross in Herefordshire.\",\n",
       " 'SCENE II\\tBefore York.',\n",
       " 'SCENE III\\tA field of battle between Towton and Saxton, in',\n",
       " 'SCENE IV\\tAnother part of the field.',\n",
       " 'SCENE V\\tAnother part of the field.',\n",
       " 'SCENE VI\\tAnother part of the field.',\n",
       " 'SCENE I\\tA forest in the north of England.',\n",
       " 'SCENE II\\tLondon. The palace.',\n",
       " \"SCENE III\\tFrance. KING LEWIS XI's palace.\",\n",
       " 'SCENE I\\tLondon. The palace.',\n",
       " 'SCENE II\\tA plain in Warwickshire.',\n",
       " \"SCENE III\\tEdward's camp, near Warwick.\",\n",
       " 'SCENE IV\\tLondon. The palace.',\n",
       " 'SCENE V\\tA park near Middleham Castle In Yorkshire.',\n",
       " 'SCENE VI\\tLondon. The Tower.',\n",
       " 'SCENE VII\\tBefore York.',\n",
       " 'SCENE VIII\\tLondon. The palace.',\n",
       " 'SCENE I\\tCoventry.',\n",
       " 'SCENE II\\tA field of battle near Barnet.',\n",
       " 'SCENE III\\tAnother part of the field.',\n",
       " 'SCENE IV\\tPlains near Tewksbury.',\n",
       " 'SCENE V\\tAnother part of the field.',\n",
       " 'SCENE VI\\tLondon. The Tower.',\n",
       " 'SCENE VII\\tLondon. The palace.',\n",
       " \"SCENE I\\tAntechamber in LEONTES' palace.\",\n",
       " 'SCENE II\\tA room of state in the same.',\n",
       " \"SCENE I\\tA room in LEONTES' palace.\",\n",
       " 'SCENE II\\tA prison.',\n",
       " \"SCENE III\\tA room in LEONTES' palace.\",\n",
       " 'SCENE I\\tA sea-port in Sicilia.',\n",
       " 'SCENE II\\tA court of Justice.',\n",
       " 'SCENE III\\tBohemia. A desert country near the sea.',\n",
       " 'SCENE I:',\n",
       " 'SCENE II\\tBohemia. The palace of POLIXENES.',\n",
       " \"SCENE III\\tA road near the Shepherd's cottage.\",\n",
       " \"SCENE IV\\tThe Shepherd's cottage.\",\n",
       " \"SCENE I\\tA room in LEONTES' palace.\",\n",
       " \"SCENE II\\tBefore LEONTES' palace.\",\n",
       " \"SCENE III\\tA chapel in PAULINA'S house.\",\n",
       " 'SCENE I\\tLondon. The palace.',\n",
       " \"SCENE II\\tLondon. An apartment of the Prince's.\",\n",
       " 'SCENE III\\tLondon. The palace.',\n",
       " 'SCENE I\\tRochester. An inn yard.',\n",
       " 'SCENE II\\tThe highway, near Gadshill.',\n",
       " 'SCENE III\\tWarkworth castle',\n",
       " \"SCENE IV\\tThe Boar's-Head Tavern, Eastcheap.\",\n",
       " \"SCENE I\\tBangor. The Archdeacon's house.\",\n",
       " 'SCENE II\\tLondon. The palace.',\n",
       " \"SCENE III\\tEastcheap. The Boar's-Head Tavern.\",\n",
       " 'SCENE I\\tThe rebel camp near Shrewsbury.',\n",
       " 'SCENE II\\tA public road near Coventry.',\n",
       " 'SCENE III\\tThe rebel camp near Shrewsbury.',\n",
       " \"SCENE IV\\tYork. The ARCHBISHOP'S palace.\",\n",
       " \"SCENE I\\tKING HENRY IV's camp near Shrewsbury.\",\n",
       " 'SCENE II\\tThe rebel camp.',\n",
       " 'SCENE III\\tPlain between the camps.',\n",
       " 'SCENE IV\\tAnother part of the field.',\n",
       " 'SCENE V\\tAnother part of the field.',\n",
       " 'SCENE I\\tVerona. A public place.',\n",
       " 'SCENE II\\tA street.',\n",
       " \"SCENE III\\tA room in Capulet's house.\",\n",
       " 'SCENE IV\\tA street.',\n",
       " \"SCENE V\\tA hall in Capulet's house.\",\n",
       " \"SCENE I\\tA lane by the wall of Capulet's orchard.\",\n",
       " \"SCENE II\\tCapulet's orchard.\",\n",
       " \"SCENE III\\tFriar Laurence's cell.\",\n",
       " 'SCENE IV\\tA street.',\n",
       " \"SCENE V\\tCapulet's orchard.\",\n",
       " \"SCENE VI\\tFriar Laurence's cell.\",\n",
       " 'SCENE I\\tA public place.',\n",
       " \"SCENE II\\tCapulet's orchard.\",\n",
       " \"SCENE III\\tFriar Laurence's cell.\",\n",
       " \"SCENE IV\\tA room in Capulet's house.\",\n",
       " \"SCENE V\\tCapulet's orchard.\",\n",
       " \"SCENE I\\tFriar Laurence's cell.\",\n",
       " \"SCENE II\\tHall in Capulet's house.\",\n",
       " \"SCENE III\\tJuliet's chamber.\",\n",
       " \"SCENE IV\\tHall in Capulet's house.\",\n",
       " \"SCENE V\\tJuliet's chamber.\",\n",
       " 'SCENE I\\tMantua. A street.',\n",
       " \"SCENE II\\tFriar Laurence's cell.\",\n",
       " 'SCENE III\\tA churchyard; in it a tomb belonging to the Capulets.',\n",
       " \"SCENE I\\tRousillon. The COUNT's palace.\",\n",
       " \"SCENE II\\tParis. The KING's palace.\",\n",
       " \"SCENE III\\tRousillon. The COUNT's palace.\",\n",
       " \"SCENE I\\tParis. The KING's palace.\",\n",
       " \"SCENE II\\tRousillon. The COUNT's palace.\",\n",
       " \"SCENE III\\tParis. The KING's palace.\",\n",
       " \"SCENE IV\\tParis. The KING's palace.\",\n",
       " \"SCENE V\\tParis. The KING's palace.\",\n",
       " \"SCENE I\\tFlorence. The DUKE's palace.\",\n",
       " \"SCENE II\\tRousillon. The COUNT's palace.\",\n",
       " \"SCENE III\\tFlorence. Before the DUKE's palace.\",\n",
       " \"SCENE IV\\tRousillon. The COUNT's palace.\",\n",
       " 'SCENE V\\tFlorence. Without the walls. A tucket afar off.',\n",
       " 'SCENE VI\\tCamp before Florence.',\n",
       " \"SCENE VII\\tFlorence. The Widow's house.\",\n",
       " 'SCENE I\\tWithout the Florentine camp.',\n",
       " \"SCENE II\\tFlorence. The Widow's house.\",\n",
       " 'SCENE III\\tThe Florentine camp.',\n",
       " \"SCENE IV\\tFlorence. The Widow's house.\",\n",
       " \"SCENE V\\tRousillon. The COUNT's palace.\",\n",
       " 'SCENE I\\tMarseilles. A street.',\n",
       " \"SCENE II\\tRousillon. Before the COUNT's palace.\",\n",
       " \"SCENE III\\tRousillon. The COUNT's palace.\",\n",
       " \"SCENE I\\tLondon. KING RICHARD II's palace.\",\n",
       " \"SCENE II\\tThe DUKE OF LANCASTER'S palace.\",\n",
       " 'SCENE III\\tThe lists at Coventry.',\n",
       " 'SCENE IV\\tThe court.',\n",
       " 'SCENE I\\tEly House.',\n",
       " 'SCENE II\\tThe palace.',\n",
       " 'SCENE III\\tWilds in Gloucestershire.',\n",
       " 'SCENE IV\\tA camp in Wales.',\n",
       " 'SCENE I\\tBristol. Before the castle.',\n",
       " 'SCENE II\\tThe coast of Wales. A castle in view.',\n",
       " 'SCENE III\\tWales. Before Flint castle.',\n",
       " \"SCENE IV\\tLANGLEY. The DUKE OF YORK's garden.\",\n",
       " 'SCENE I\\tWestminster Hall.',\n",
       " 'SCENE I\\tLondon. A street leading to the Tower.',\n",
       " \"SCENE II\\tThe DUKE OF YORK's palace.\",\n",
       " 'SCENE III\\tA royal palace.',\n",
       " 'SCENE IV\\tThe same.',\n",
       " 'SCENE V\\tPomfret castle.',\n",
       " 'SCENE VI\\tWindsor castle.',\n",
       " 'SCENE I\\tWestminster Abbey.',\n",
       " 'SCENE II\\tFrance. Before Orleans.',\n",
       " 'SCENE III\\tLondon. Before the Tower.',\n",
       " 'SCENE IV\\tOrleans.',\n",
       " 'SCENE V\\tThe same.',\n",
       " 'SCENE VI\\tThe same.',\n",
       " 'SCENE I\\tBefore Orleans.',\n",
       " 'SCENE II\\tOrleans. Within the town.',\n",
       " \"SCENE III\\tAuvergne. The COUNTESS's castle.\",\n",
       " 'SCENE IV\\tLondon. The Temple-garden.',\n",
       " 'SCENE V\\tThe Tower of London.',\n",
       " 'SCENE I\\tLondon. The Parliament-house.',\n",
       " 'SCENE II\\tFrance. Before Rouen.',\n",
       " 'SCENE III\\tThe plains near Rouen.',\n",
       " 'SCENE IV\\tParis. The palace.',\n",
       " 'SCENE I\\tParis. A hall of state.',\n",
       " 'SCENE II\\tBefore Bourdeaux.',\n",
       " 'SCENE III\\tPlains in Gascony.',\n",
       " 'SCENE IV\\tOther plains in Gascony.',\n",
       " 'SCENE V\\tThe English camp near Bourdeaux.',\n",
       " 'SCENE VI\\tA field of battle.',\n",
       " 'SCENE VII\\tAnother part of the field.',\n",
       " 'SCENE I\\tLondon. The palace.',\n",
       " 'SCENE II\\tFrance. Plains in Anjou.',\n",
       " 'SCENE III\\tBefore Angiers.',\n",
       " 'SCENE IV\\tCamp of the YORK in Anjou.',\n",
       " 'SCENE V\\tLondon. The palace.',\n",
       " \"SCENE I\\tWindsor. Before PAGE's house.\",\n",
       " 'SCENE II\\tThe same.',\n",
       " 'SCENE III\\tA room in the Garter Inn.',\n",
       " \"SCENE IV\\tA room in DOCTOR CAIUS' house.\",\n",
       " \"SCENE I\\tBefore PAGE'S house.\",\n",
       " 'SCENE II\\tA room in the Garter Inn.',\n",
       " 'SCENE III\\tA field near Windsor.',\n",
       " 'SCENE I\\tA field near Frogmore.',\n",
       " 'SCENE II\\tA street.',\n",
       " \"SCENE III\\tA room in FORD'S house.\",\n",
       " \"SCENE IV\\tA room in PAGE'S house.\",\n",
       " 'SCENE V\\tA room in the Garter Inn.',\n",
       " 'SCENE I\\tA street.',\n",
       " \"SCENE II\\tA room in FORD'S house.\",\n",
       " 'SCENE III\\tA room in the Garter Inn.',\n",
       " \"SCENE IV\\tA room in FORD'S house.\",\n",
       " 'SCENE V\\tA room in the Garter Inn.',\n",
       " 'SCENE VI\\tAnother room in the Garter Inn.',\n",
       " 'SCENE I\\tA room in the Garter Inn.',\n",
       " 'SCENE II\\tWindsor Park.',\n",
       " 'SCENE III\\tA street leading to the Park.',\n",
       " 'SCENE IV\\tWindsor Park.',\n",
       " 'SCENE V\\tAnother part of the Park.',\n",
       " \"SCENE I\\tAn apartment in the DUKE'S palace.\",\n",
       " 'SCENE II\\tA Street.',\n",
       " 'SCENE III\\tA monastery.',\n",
       " 'SCENE IV\\tA nunnery.',\n",
       " \"SCENE I\\tA hall In ANGELO's house.\",\n",
       " 'SCENE II\\tAnother room in the same.',\n",
       " 'SCENE III\\tA room in a prison.',\n",
       " \"SCENE IV\\tA room in ANGELO's house.\",\n",
       " 'SCENE I\\tA room in the prison.',\n",
       " 'SCENE II\\tThe street before the prison.',\n",
       " \"SCENE I\\tThe moated grange at ST. LUKE's.\",\n",
       " 'SCENE II\\tA room in the prison.',\n",
       " 'SCENE III\\tAnother room in the same.',\n",
       " \"SCENE IV\\tA room in ANGELO's house.\",\n",
       " 'SCENE V\\tFields without the town.',\n",
       " 'SCENE VI\\tStreet near the city gate.',\n",
       " 'SCENE I\\tThe city gate.',\n",
       " \"SCENE I\\tThe king of Navarre's park.\",\n",
       " 'SCENE II\\tThe same.',\n",
       " 'SCENE I\\tThe same.',\n",
       " 'SCENE I\\tThe same.',\n",
       " 'SCENE I\\tThe same.',\n",
       " 'SCENE II\\tThe same.',\n",
       " 'SCENE III\\tThe same.',\n",
       " 'SCENE I\\tThe same.',\n",
       " 'SCENE II\\tThe same.',\n",
       " \"SCENE I\\tOrchard of Oliver's house.\",\n",
       " \"SCENE II\\tLawn before the Duke's palace.\",\n",
       " 'SCENE III\\tA room in the palace.',\n",
       " 'SCENE I\\tThe Forest of Arden.',\n",
       " 'SCENE II\\tA room in the palace.',\n",
       " \"SCENE III\\tBefore OLIVER'S house.\",\n",
       " 'SCENE IV\\tThe Forest of Arden.',\n",
       " 'SCENE V\\tThe Forest.',\n",
       " 'SCENE VI\\tThe forest.',\n",
       " 'SCENE VII\\tThe forest.',\n",
       " 'SCENE I\\tA room in the palace.',\n",
       " 'SCENE II\\tThe forest.',\n",
       " 'SCENE III\\tThe forest.',\n",
       " 'SCENE IV\\tThe forest.',\n",
       " 'SCENE V\\tAnother part of the forest.',\n",
       " 'SCENE I\\tThe forest.',\n",
       " 'SCENE II\\tThe forest.',\n",
       " 'SCENE III\\tThe forest.',\n",
       " 'SCENE I\\tThe forest.',\n",
       " 'SCENE II\\tThe forest.',\n",
       " 'SCENE III\\tThe forest.',\n",
       " 'SCENE IV\\tThe forest.',\n",
       " 'SCENE I\\tBefore an alehouse on a heath.',\n",
       " \"SCENE II\\tA bedchamber in the Lord's house.\",\n",
       " 'SCENE I\\tPadua. A public place.',\n",
       " \"SCENE II\\tPadua. Before HORTENSIO'S house.\",\n",
       " \"SCENE I\\tPadua. A room in BAPTISTA'S house.\",\n",
       " \"SCENE I\\tPadua. BAPTISTA'S house.\",\n",
       " \"SCENE II\\tPadua. Before BAPTISTA'S house.\",\n",
       " \"SCENE I\\tPETRUCHIO'S country house.\",\n",
       " \"SCENE II\\tPadua. Before BAPTISTA'S house.\",\n",
       " \"SCENE III\\tA room in PETRUCHIO'S house.\",\n",
       " \"SCENE IV\\tPadua. Before BAPTISTA'S house.\",\n",
       " 'SCENE V\\tA public road.',\n",
       " \"SCENE I\\tPadua. Before LUCENTIO'S house.\",\n",
       " \"SCENE II\\tPadua. LUCENTIO'S house.\",\n",
       " 'SCENE I\\tRome. Before the Capitol.',\n",
       " 'SCENE I\\tRome. Before the Palace.',\n",
       " 'SCENE II\\tA forest near Rome. Horns and cry of hounds heard.',\n",
       " 'SCENE III\\tA lonely part of the forest.',\n",
       " 'SCENE IV\\tAnother part of the forest.',\n",
       " 'SCENE I\\tRome. A street.',\n",
       " \"SCENE II\\tA room in Titus's house. A banquet set out.\",\n",
       " \"SCENE I\\tRome. Titus's garden.\",\n",
       " 'SCENE II\\tThe same. A room in the palace.',\n",
       " 'SCENE III\\tThe same. A public place.',\n",
       " 'SCENE IV\\tThe same. Before the palace.',\n",
       " 'SCENE I\\tPlains near Rome.',\n",
       " \"SCENE II\\tRome. Before TITUS's house.\",\n",
       " \"SCENE III\\tCourt of TITUS's house. A banquet set out.\",\n",
       " \"SCENE I\\tBefore LEONATO'S house.\",\n",
       " \"SCENE II\\tA room in LEONATO's house.\",\n",
       " 'SCENE III\\tThe same.',\n",
       " \"SCENE I\\tA hall in LEONATO'S house.\",\n",
       " 'SCENE II\\tThe same.',\n",
       " \"SCENE III\\tLEONATO'S orchard.\",\n",
       " \"SCENE I\\tLEONATO'S garden.\",\n",
       " \"SCENE II\\tA room in LEONATO'S house\",\n",
       " 'SCENE III\\tA street.',\n",
       " \"SCENE IV\\tHERO's apartment.\",\n",
       " \"SCENE V\\tAnother room in LEONATO'S house.\",\n",
       " 'SCENE I\\tA church.',\n",
       " 'SCENE II\\tA prison.',\n",
       " \"SCENE I\\tBefore LEONATO'S house.\",\n",
       " \"SCENE II\\tLEONATO'S garden.\",\n",
       " 'SCENE III\\tA church.',\n",
       " \"SCENE IV\\tA room in LEONATO'S house.\",\n",
       " 'SCENE I\\tVenice. A street.',\n",
       " \"SCENE II: Belmont. A room in PORTIA'S house.\",\n",
       " 'SCENE III\\tVenice. A public place.',\n",
       " \"SCENE I\\tBelmont. A room in PORTIA'S house.\",\n",
       " 'SCENE II\\tVenice. A street.',\n",
       " \"SCENE III\\tThe same. A room in SHYLOCK'S house.\",\n",
       " 'SCENE IV\\tThe same. A street.',\n",
       " \"SCENE V\\tThe same. Before SHYLOCK'S house.\",\n",
       " 'SCENE VI\\tThe same.',\n",
       " \"SCENE VII\\tBelmont. A room in PORTIA'S house.\",\n",
       " 'SCENE VIII\\tVenice. A street.',\n",
       " \"SCENE IX\\tBelmont. A room in PORTIA'S house.\",\n",
       " 'SCENE I\\tVenice. A street.',\n",
       " \"SCENE II\\tBelmont. A room in PORTIA'S house.\",\n",
       " 'SCENE III\\tVenice. A street.',\n",
       " \"SCENE IV\\tBelmont. A room in PORTIA'S house.\",\n",
       " 'SCENE V\\tThe same. A garden.',\n",
       " 'SCENE I\\tVenice. A court of justice.',\n",
       " 'SCENE II\\tThe same. A street.',\n",
       " \"SCENE I\\tBelmont. Avenue to PORTIA'S house.\",\n",
       " \"SCENE I\\tKING JOHN'S palace.\",\n",
       " 'SCENE I\\tFrance. Before Angiers.',\n",
       " \"SCENE I\\tThe French King's pavilion.\",\n",
       " 'SCENE II\\tThe same. Plains near Angiers.',\n",
       " 'SCENE III\\tThe same.',\n",
       " \"SCENE IV\\tThe same. KING PHILIP'S tent.\",\n",
       " 'SCENE I\\tA room in a castle.',\n",
       " \"SCENE II\\tKING JOHN'S palace.\",\n",
       " 'SCENE III\\tBefore the castle.',\n",
       " \"SCENE I\\tKING JOHN'S palace.\",\n",
       " \"SCENE II\\tLEWIS's camp at St. Edmundsbury.\",\n",
       " 'SCENE III\\tThe field of battle.',\n",
       " 'SCENE IV\\tAnother part of the field.',\n",
       " 'SCENE V\\tThe French camp.',\n",
       " 'SCENE VI\\tAn open place in the neighbourhood of Swinstead Abbey.',\n",
       " 'SCENE VII\\tThe orchard in Swinstead Abbey.',\n",
       " 'SCENE I\\tRome. A street.',\n",
       " 'SCENE II\\tA public place.',\n",
       " 'SCENE III\\tThe same. A street.',\n",
       " \"SCENE I\\tRome. BRUTUS's orchard.\",\n",
       " \"SCENE II\\tCAESAR's house.\",\n",
       " 'SCENE III\\tA street near the Capitol.',\n",
       " 'SCENE IV\\tAnother part of the same street, before the house of BRUTUS.',\n",
       " 'SCENE I\\tRome. Before the Capitol; the Senate sitting above.',\n",
       " 'SCENE II\\tThe Forum.',\n",
       " 'SCENE III\\tA street.',\n",
       " 'SCENE I\\tA house in Rome.',\n",
       " \"SCENE II\\tCamp near Sardis. Before BRUTUS's tent.\",\n",
       " \"SCENE III\\tBrutus's tent.\",\n",
       " 'SCENE I\\tThe plains of Philippi.',\n",
       " 'SCENE II\\tThe same. The field of battle.',\n",
       " 'SCENE III\\tAnother part of the field.',\n",
       " 'SCENE IV\\tAnother part of the field.',\n",
       " 'SCENE V\\tAnother part of the field.',\n",
       " \"SCENE I\\tDUKE ORSINO's palace.\",\n",
       " 'SCENE II\\tThe sea-coast.',\n",
       " \"SCENE III\\tOLIVIA'S house.\",\n",
       " \"SCENE IV\\tDUKE ORSINO's palace.\",\n",
       " \"SCENE V\\tOLIVIA'S house.\",\n",
       " 'SCENE I\\tThe sea-coast.',\n",
       " 'SCENE II\\tA street.',\n",
       " \"SCENE III\\tOLIVIA's house.\",\n",
       " \"SCENE IV\\tDUKE ORSINO's palace.\",\n",
       " \"SCENE V\\tOLIVIA's garden.\",\n",
       " \"SCENE I\\tOLIVIA's garden.\",\n",
       " \"SCENE II\\tOLIVIA's house.\",\n",
       " 'SCENE III\\tA street.',\n",
       " \"SCENE IV\\tOLIVIA's garden.\",\n",
       " \"SCENE I\\tBefore OLIVIA's house.\",\n",
       " \"SCENE II\\tOLIVIA's house.\",\n",
       " \"SCENE III\\tOLIVIA's garden.\",\n",
       " \"SCENE I\\tBefore OLIVIA's house.\",\n",
       " \"SCENE I\\tAthens. A hall in Timon's house.\",\n",
       " \"SCENE II\\tA banqueting-room in Timon's house.\",\n",
       " \"SCENE I\\tA Senator's house.\",\n",
       " \"SCENE II\\tThe same. A hall in Timon's house.\",\n",
       " \"SCENE I\\tA room in Lucullus' house.\",\n",
       " 'SCENE II\\tA public place.',\n",
       " \"SCENE III\\tA room in Sempronius' house.\",\n",
       " \"SCENE IV\\tThe same. A hall in Timon's house.\",\n",
       " 'SCENE V\\tThe same. The senate-house. The Senate sitting.',\n",
       " \"SCENE VI\\tThe same. A banqueting-room in Timon's house.\",\n",
       " 'SCENE I\\tWithout the walls of Athens.',\n",
       " \"SCENE II\\tAthens. A room in Timon's house.\",\n",
       " 'SCENE III\\tWoods and cave, near the seashore.',\n",
       " \"SCENE I\\tThe woods. Before Timon's cave.\",\n",
       " 'SCENE II\\tBefore the walls of Athens.',\n",
       " \"SCENE III\\tThe woods. Timon's cave, and a rude tomb seen.\",\n",
       " 'SCENE IV\\tBefore the walls of Athens.',\n",
       " 'SCENE I\\tAntioch. A room in the palace.',\n",
       " 'SCENE II\\tTyre. A room in the palace.',\n",
       " 'SCENE III\\tTyre. An ante-chamber in the palace.',\n",
       " \"SCENE IV\\tTarsus. A room in the Governor's house.\",\n",
       " 'SCENE I\\tPentapolis. An open place by the sea-side.',\n",
       " 'SCENE II\\tThe same. A public way or platform leading to the',\n",
       " 'SCENE III\\tThe same. A hall of state: a banquet prepared.',\n",
       " \"SCENE IV\\tTyre. A room in the Governor's house.\",\n",
       " 'SCENE V\\tPentapolis. A room in the palace.',\n",
       " 'SCENE I:',\n",
       " \"SCENE II\\tEphesus. A room in CERIMON's house.\",\n",
       " \"SCENE III\\tTarsus. A room in CLEON's house.\",\n",
       " \"SCENE IV\\tEphesus. A room in CERIMON's house.\",\n",
       " 'SCENE I\\tTarsus. An open place near the sea-shore.',\n",
       " 'SCENE II\\tMytilene. A room in a brothel.',\n",
       " \"SCENE III\\tTarsus. A room in CLEON's house.\",\n",
       " 'SCENE IV:',\n",
       " 'SCENE V\\tMytilene. A street before the brothel.',\n",
       " 'SCENE VI\\tThe same. A room in the brothel.',\n",
       " \"SCENE I\\tOn board PERICLES' ship, off Mytilene. A close\",\n",
       " 'SCENE II:',\n",
       " 'SCENE III\\tThe temple of Diana at Ephesus; THAISA standing',\n",
       " 'SCENE I\\tA desert place.',\n",
       " 'SCENE II\\tA camp near Forres.',\n",
       " 'SCENE III\\tA heath near Forres.',\n",
       " 'SCENE IV\\tForres. The palace.',\n",
       " \"SCENE V\\tInverness. Macbeth's castle.\",\n",
       " \"SCENE VI\\tBefore Macbeth's castle.\",\n",
       " \"SCENE VII\\tMacbeth's castle.\",\n",
       " \"SCENE I\\tCourt of Macbeth's castle.\",\n",
       " 'SCENE II\\tThe same.',\n",
       " 'SCENE III\\tThe same.',\n",
       " \"SCENE IV\\tOutside Macbeth's castle.\",\n",
       " 'SCENE I\\tForres. The palace.',\n",
       " 'SCENE II\\tThe palace.',\n",
       " 'SCENE III\\tA park near the palace.',\n",
       " 'SCENE IV\\tThe same. Hall in the palace.',\n",
       " 'SCENE V\\tA Heath.',\n",
       " 'SCENE VI\\tForres. The palace.',\n",
       " 'SCENE I\\tA cavern. In the middle, a boiling cauldron.',\n",
       " \"SCENE II\\tFife. Macduff's castle.\",\n",
       " \"SCENE III\\tEngland. Before the King's palace.\",\n",
       " 'SCENE I\\tDunsinane. Ante-room in the castle.',\n",
       " 'SCENE II\\tThe country near Dunsinane.',\n",
       " 'SCENE III\\tDunsinane. A room in the castle.',\n",
       " 'SCENE IV\\tCountry near Birnam wood.',\n",
       " 'SCENE V\\tDunsinane. Within the castle.',\n",
       " 'SCENE VI\\tDunsinane. Before the castle.',\n",
       " 'SCENE VII\\tAnother part of the field.',\n",
       " 'SCENE VIII\\tAnother part of the field.',\n",
       " 'SCENE I\\tVerona. An open place.',\n",
       " \"SCENE II\\tThe same. Garden of JULIA's house.\",\n",
       " \"SCENE III\\tThe same. ANTONIO's house.\",\n",
       " \"SCENE I\\tMilan. The DUKE's palace.\",\n",
       " \"SCENE II\\tVerona. JULIA'S house.\",\n",
       " 'SCENE III\\tThe same. A street.',\n",
       " \"SCENE IV\\tMilan. The DUKE's palace.\",\n",
       " 'SCENE V\\tThe same. A street.',\n",
       " \"SCENE VI\\tThe same. The DUKE'S palace.\",\n",
       " \"SCENE VII\\tVerona. JULIA'S house.\",\n",
       " \"SCENE I\\tMilan. The DUKE's palace.\",\n",
       " \"SCENE II\\tThe same. The DUKE's palace.\",\n",
       " 'SCENE I\\tThe frontiers of Mantua. A forest.',\n",
       " \"SCENE II\\tMilan. Outside the DUKE's palace, under SILVIA's chamber.\",\n",
       " 'SCENE III\\tThe same.',\n",
       " 'SCENE IV\\tThe same.',\n",
       " 'SCENE I\\tMilan. An abbey.',\n",
       " \"SCENE II\\tThe same. The DUKE's palace.\",\n",
       " 'SCENE III\\tThe frontiers of Mantua. The forest.',\n",
       " 'SCENE IV\\tAnother part of the forest.',\n",
       " 'SCENE I\\tOn a ship at sea: a tempestuous noise',\n",
       " \"SCENE II\\tThe island. Before PROSPERO'S cell.\",\n",
       " 'SCENE I\\tAnother part of the island.',\n",
       " 'SCENE II\\tAnother part of the island.',\n",
       " \"SCENE I\\tBefore PROSPERO'S Cell.\",\n",
       " 'SCENE II\\tAnother part of the island.',\n",
       " 'SCENE III\\tAnother part of the island.',\n",
       " \"SCENE I\\tBefore PROSPERO'S cell.\",\n",
       " \"SCENE I\\tBefore PROSPERO'S cell.\",\n",
       " 'SCENE I\\tAthens. The palace of THESEUS.',\n",
       " \"SCENE II\\tAthens. QUINCE'S house.\",\n",
       " 'SCENE I\\tA wood near Athens.',\n",
       " 'SCENE II\\tAnother part of the wood.',\n",
       " 'SCENE I\\tThe wood. TITANIA lying asleep.',\n",
       " 'SCENE II\\tAnother part of the wood.',\n",
       " 'SCENE I\\tThe same. LYSANDER, DEMETRIUS, HELENA, and HERMIA',\n",
       " \"SCENE II\\tAthens. QUINCE'S house.\",\n",
       " 'SCENE I\\tAthens. The palace of THESEUS.',\n",
       " \"SCENE I\\tA hall in DUKE SOLINUS'S palace.\",\n",
       " 'SCENE II\\tThe Mart.',\n",
       " 'SCENE I\\tThe house of ANTIPHOLUS of Ephesus.',\n",
       " 'SCENE II\\tA public place.',\n",
       " 'SCENE I\\tBefore the house of ANTIPHOLUS of Ephesus.',\n",
       " 'SCENE II\\tThe same.',\n",
       " 'SCENE I\\tA public place.',\n",
       " 'SCENE II\\tThe house of ANTIPHOLUS of Ephesus.',\n",
       " 'SCENE III\\tA public place.',\n",
       " 'SCENE IV\\tA street.',\n",
       " 'SCENE I\\tA street before a Priory.']"
      ]
     },
     "execution_count": 7,
     "metadata": {},
     "output_type": "execute_result"
    }
   ],
   "source": [
    "scenes = lines2.filter(lambda line: 'SCENE ' in line)\n",
    "scenes.collect()"
   ]
  },
  {
   "cell_type": "markdown",
   "metadata": {},
   "source": [
    "Next, we generate a sorted RDD of pairs (count, word) for each word in the data set. The backslashes at the end of the line tell Python that the following line continues the current one (otherwise it will complain about the syntax because line endings are significant to Python)."
   ]
  },
  {
   "cell_type": "code",
   "execution_count": 8,
   "metadata": {},
   "outputs": [
    {
     "data": {
      "text/plain": [
       "[(1, '(gentlemen'),\n",
       " (1, '[francisco'),\n",
       " (1, 'illume'),\n",
       " (1, 'polacks'),\n",
       " (1, \"shark'd\"),\n",
       " (1, 'sheeted'),\n",
       " (1, 'precurse'),\n",
       " (1, 'demonstrated'),\n",
       " (1, 'crows]'),\n",
       " (1, \"saviour's\")]"
      ]
     },
     "execution_count": 8,
     "metadata": {},
     "output_type": "execute_result"
    }
   ],
   "source": [
    "wordcounts = \\\n",
    "    lines2.map(lambda x: x.replace(',',' ').replace('.',' ').replace('-',' ').replace(':',' ')\n",
    "                          .replace('?',' ').replace(';',' ').replace('!',' ').lower()) \\\n",
    "    .flatMap(lambda x: x.split()) \\\n",
    "    .map(lambda x: (x, 1)) \\\n",
    "    .reduceByKey(lambda x,y: x+y) \\\n",
    "    .map(lambda x: (x[1],x[0])) \\\n",
    "    .sortByKey(True)\n",
    "wordcounts.take(10)"
   ]
  },
  {
   "cell_type": "markdown",
   "metadata": {},
   "source": [
    "To understand how this works, try out the code in the section titled \"Revisiting the wordcount example\" at the top of the web page at http://www.mccarroll.net/blog/pyspark2/. The code on that web page from the second shaded box onwards appears below. Read the description of each step and then try the code in this notebook.\n",
    "\n",
    "#### Code from the 2nd shaded box:"
   ]
  },
  {
   "cell_type": "code",
   "execution_count": 9,
   "metadata": {},
   "outputs": [
    {
     "data": {
      "text/plain": [
       "[(2, 'have'),\n",
       " (2, 'to'),\n",
       " (2, 'fun'),\n",
       " (1, 'but'),\n",
       " (1, 'you'),\n",
       " (1, 'how'),\n",
       " (1, 'know'),\n",
       " (1, 'its')]"
      ]
     },
     "execution_count": 9,
     "metadata": {},
     "output_type": "execute_result"
    }
   ],
   "source": [
    "lines = sc.parallelize(['Its fun to have fun,','but you have to know how.']) \n",
    "wordcounts = lines.map( lambda x: x.replace(',',' ').replace('.',' ').replace('-',' ').lower()) \\\n",
    "        .flatMap(lambda x: x.split()) \\\n",
    "        .map(lambda x: (x, 1)) \\\n",
    "        .reduceByKey(lambda x,y:x+y) \\\n",
    "        .map(lambda x:(x[1],x[0])) \\\n",
    "        .sortByKey(False) \n",
    "wordcounts.take(10)"
   ]
  },
  {
   "cell_type": "markdown",
   "metadata": {},
   "source": [
    "Rather than chaining together method calls, an alternative approach would be to assign the result of each method call to a variable, and progressively call the methods on each intermediate RDD. As noted above, Spark uses a \"lazy\" approach to generating RDDs. It usually does no computation on data (including the generation of intermediate RDDs) until some results are requested, e.g. using `take` or `collect`. "
   ]
  },
  {
   "cell_type": "markdown",
   "metadata": {},
   "source": [
    "#### Code for step 1: `map(<function>)`"
   ]
  },
  {
   "cell_type": "code",
   "execution_count": 10,
   "metadata": {},
   "outputs": [
    {
     "data": {
      "text/plain": [
       "['its fun to have fun ', 'but you have to know how ']"
      ]
     },
     "execution_count": 10,
     "metadata": {},
     "output_type": "execute_result"
    }
   ],
   "source": [
    "r1 = lines.map( lambda x: x.replace(',',' ').replace('.',' ').replace('-',' ').lower())\n",
    "r1.take(10)"
   ]
  },
  {
   "cell_type": "markdown",
   "metadata": {},
   "source": [
    "#### Code for step 2: `flatMap(<function>)`"
   ]
  },
  {
   "cell_type": "code",
   "execution_count": 11,
   "metadata": {},
   "outputs": [
    {
     "data": {
      "text/plain": [
       "['its', 'fun', 'to', 'have', 'fun', 'but', 'you', 'have', 'to', 'know', 'how']"
      ]
     },
     "execution_count": 11,
     "metadata": {},
     "output_type": "execute_result"
    }
   ],
   "source": [
    "r2 = r1.flatMap(lambda x: x.split())\n",
    "r2.take(20)"
   ]
  },
  {
   "cell_type": "markdown",
   "metadata": {},
   "source": [
    "#### Code for step 3: `map(<function>)` (again)"
   ]
  },
  {
   "cell_type": "code",
   "execution_count": 12,
   "metadata": {},
   "outputs": [
    {
     "data": {
      "text/plain": [
       "[('its', 1),\n",
       " ('fun', 1),\n",
       " ('to', 1),\n",
       " ('have', 1),\n",
       " ('fun', 1),\n",
       " ('but', 1),\n",
       " ('you', 1),\n",
       " ('have', 1),\n",
       " ('to', 1),\n",
       " ('know', 1),\n",
       " ('how', 1)]"
      ]
     },
     "execution_count": 12,
     "metadata": {},
     "output_type": "execute_result"
    }
   ],
   "source": [
    "r3 = r2.map(lambda x: (x, 1))\n",
    "r3.take(20)"
   ]
  },
  {
   "cell_type": "markdown",
   "metadata": {},
   "source": [
    "#### Code for step 4: `reduceByKey(<function>)`"
   ]
  },
  {
   "cell_type": "code",
   "execution_count": 13,
   "metadata": {},
   "outputs": [
    {
     "data": {
      "text/plain": [
       "[('have', 2),\n",
       " ('but', 1),\n",
       " ('to', 2),\n",
       " ('you', 1),\n",
       " ('how', 1),\n",
       " ('know', 1),\n",
       " ('its', 1),\n",
       " ('fun', 2)]"
      ]
     },
     "execution_count": 13,
     "metadata": {},
     "output_type": "execute_result"
    }
   ],
   "source": [
    "r4 = r3.reduceByKey(lambda x,y:x+y)\n",
    "r4.take(20)"
   ]
  },
  {
   "cell_type": "markdown",
   "metadata": {},
   "source": [
    "#### Code for step 5: `map(<function>)` (yet again!)"
   ]
  },
  {
   "cell_type": "code",
   "execution_count": 14,
   "metadata": {},
   "outputs": [
    {
     "data": {
      "text/plain": [
       "[(2, 'have'),\n",
       " (1, 'but'),\n",
       " (2, 'to'),\n",
       " (1, 'you'),\n",
       " (1, 'how'),\n",
       " (1, 'know'),\n",
       " (1, 'its'),\n",
       " (2, 'fun')]"
      ]
     },
     "execution_count": 14,
     "metadata": {},
     "output_type": "execute_result"
    }
   ],
   "source": [
    "r5 = r4.map(lambda x:(x[1],x[0]))\n",
    "r5.take(20)"
   ]
  },
  {
   "cell_type": "markdown",
   "metadata": {},
   "source": [
    "#### Code for step 6: `sortByKey( ascending=True|False )`"
   ]
  },
  {
   "cell_type": "code",
   "execution_count": 15,
   "metadata": {},
   "outputs": [
    {
     "data": {
      "text/plain": [
       "[(2, 'have'),\n",
       " (2, 'to'),\n",
       " (2, 'fun'),\n",
       " (1, 'but'),\n",
       " (1, 'you'),\n",
       " (1, 'how'),\n",
       " (1, 'know'),\n",
       " (1, 'its')]"
      ]
     },
     "execution_count": 15,
     "metadata": {},
     "output_type": "execute_result"
    }
   ],
   "source": [
    "r6 = r5.sortByKey(ascending=False)\n",
    "r6.take(20)"
   ]
  },
  {
   "cell_type": "markdown",
   "metadata": {},
   "source": [
    "Now, leaving that example, make sure that you understand the difference between the functions `map` and `flatMap`, by predicting what each of these cells will do, and then running them."
   ]
  },
  {
   "cell_type": "code",
   "execution_count": 16,
   "metadata": {},
   "outputs": [
    {
     "data": {
      "text/plain": [
       "[['a', 'a', 'r', 'd', 'v', 'a', 'r', 'k'],\n",
       " ['b', 'a', 'b', 'y'],\n",
       " ['c', 'a', 'r', 'r', 'o', 't']]"
      ]
     },
     "execution_count": 16,
     "metadata": {},
     "output_type": "execute_result"
    }
   ],
   "source": [
    "words = sc.parallelize(['aardvark', 'baby', 'carrot']) # Create an RDD from a Python list\n",
    "word_chars = words.map(list)  # The function 'list' converts a string to a list of characters (which are just short strings)\n",
    "word_chars.collect() # Collect gathers the RDD into a Python list."
   ]
  },
  {
   "cell_type": "code",
   "execution_count": 17,
   "metadata": {},
   "outputs": [
    {
     "data": {
      "text/plain": [
       "['a',\n",
       " 'a',\n",
       " 'r',\n",
       " 'd',\n",
       " 'v',\n",
       " 'a',\n",
       " 'r',\n",
       " 'k',\n",
       " 'b',\n",
       " 'a',\n",
       " 'b',\n",
       " 'y',\n",
       " 'c',\n",
       " 'a',\n",
       " 'r',\n",
       " 'r',\n",
       " 'o',\n",
       " 't']"
      ]
     },
     "execution_count": 17,
     "metadata": {},
     "output_type": "execute_result"
    }
   ],
   "source": [
    "all_chars = words.flatMap(list)\n",
    "all_chars.collect()"
   ]
  },
  {
   "cell_type": "code",
   "execution_count": 18,
   "metadata": {},
   "outputs": [
    {
     "data": {
      "text/plain": [
       "['r', 'b', 'y', 'c', 'a', 'd', 'v', 'k', 'o', 't']"
      ]
     },
     "execution_count": 18,
     "metadata": {},
     "output_type": "execute_result"
    }
   ],
   "source": [
    "distinct_chars = all_chars.distinct()\n",
    "distinct_chars.collect()"
   ]
  },
  {
   "cell_type": "markdown",
   "metadata": {},
   "source": [
    "## Exercise 2: Exploring the Enron dataset\n",
    "\n",
    "The Enron dataset is a corpus of over 600,000 email messages from the Enron corporation. You can read about it [here](https://en.wikipedia.org/wiki/Enron_Corpus). If you did not upload the data file `messages.json.zip` before opening this notebook, return (temporarily) to the original browswer tab showing http://127.0.0.1:8080/tree, click on Upload, and open that file from wherever you downloaded it to from Blackboard. Confirm the upload by clicking on the blue Upload button that appears.\n",
    "\n",
    "The code in the cell below removes the Exercise 1 datasets from memory and unzips the Enron email dataset file. This may take a while. You will know it is finished when the '`*`' in `[*]` (to the left of the cell) is replaced with a space. Also, the circle to the right of \"Python 3' at the top left of this Jupyter notebook will turn solid black while the computation is running, then change to a hollow circle once it is finished. The same applies to the other cells below."
   ]
  },
  {
   "cell_type": "code",
   "execution_count": 20,
   "metadata": {},
   "outputs": [
    {
     "name": "stdout",
     "output_type": "stream",
     "text": [
      "Archive:  messages.json.zip\n",
      "  inflating: messages.json\n"
     ]
    }
   ],
   "source": [
    "%reset -sf\n",
    "import gc\n",
    "gc.collect()\n",
    "\n",
    "!unzip -o messages.json.zip"
   ]
  },
  {
   "cell_type": "markdown",
   "metadata": {},
   "source": [
    "Rather than reading the data into a Spark \"resilient distributed dataset\" (RDD), we will  create a Spark \"data frame\" from the JSON data file. A data frame includes schema information (inferred from the JSON file in this case). The third command below prints the schema, and the last command prints the first message in the data set. The variable `spark` is predefined to hold a reference to a \"Spark Session\" object."
   ]
  },
  {
   "cell_type": "code",
   "execution_count": 21,
   "metadata": {},
   "outputs": [
    {
     "name": "stdout",
     "output_type": "stream",
     "text": [
      "DataFrame[_id: struct<$oid:string>, body: string, filename: string, headers: struct<Attendees:string,Bcc:string,Cc:string,Content-Transfer-Encoding:string,Content-Type:string,Date:string,From:string,Message-ID:string,Mime-Version:string,Re:string,Subject:string,Time:string,To:string,X-FileName:string,X-Folder:string,X-From:string,X-Origin:string,X-To:string,X-bcc:string,X-cc:string>, mailbox: string, subFolder: string] \n",
      "\n",
      "root\n",
      " |-- _id: struct (nullable = true)\n",
      " |    |-- $oid: string (nullable = true)\n",
      " |-- body: string (nullable = true)\n",
      " |-- filename: string (nullable = true)\n",
      " |-- headers: struct (nullable = true)\n",
      " |    |-- Attendees: string (nullable = true)\n",
      " |    |-- Bcc: string (nullable = true)\n",
      " |    |-- Cc: string (nullable = true)\n",
      " |    |-- Content-Transfer-Encoding: string (nullable = true)\n",
      " |    |-- Content-Type: string (nullable = true)\n",
      " |    |-- Date: string (nullable = true)\n",
      " |    |-- From: string (nullable = true)\n",
      " |    |-- Message-ID: string (nullable = true)\n",
      " |    |-- Mime-Version: string (nullable = true)\n",
      " |    |-- Re: string (nullable = true)\n",
      " |    |-- Subject: string (nullable = true)\n",
      " |    |-- Time: string (nullable = true)\n",
      " |    |-- To: string (nullable = true)\n",
      " |    |-- X-FileName: string (nullable = true)\n",
      " |    |-- X-Folder: string (nullable = true)\n",
      " |    |-- X-From: string (nullable = true)\n",
      " |    |-- X-Origin: string (nullable = true)\n",
      " |    |-- X-To: string (nullable = true)\n",
      " |    |-- X-bcc: string (nullable = true)\n",
      " |    |-- X-cc: string (nullable = true)\n",
      " |-- mailbox: string (nullable = true)\n",
      " |-- subFolder: string (nullable = true)\n",
      "\n",
      "Number of messages: 501513\n"
     ]
    },
    {
     "data": {
      "text/plain": [
       "Row(_id=Row($oid='4f16fc97d1e2d32371003e27'), body=\"the scrimmage is still up in the air...\\n\\n\\nwebb said that they didnt want to scrimmage...\\n\\nthe aggies  are scrimmaging each other... (the aggie teams practiced on \\nSunday)\\n\\nwhen I called the aggie captains to see if we could use their field.... they \\nsaid that it was tooo smalll for us to use...\\n\\n\\nsounds like bullshit to me... but what can we do....\\n\\n\\nanyway... we will have to do another practice Wed. night....    and I dont' \\nknow where we can practice.... any suggestions...\\n\\n\\nalso,  we still need one  more person...\", filename='450.', headers=Row(Attendees=None, Bcc=None, Cc=None, Content-Transfer-Encoding='7bit', Content-Type='text/plain; charset=us-ascii', Date='Tue, 14 Nov 2000 08:22:00 -0800 (PST)', From='michael.simmons@enron.com', Message-ID='<6884142.1075854677416.JavaMail.evans@thyme>', Mime-Version='1.0', Re=None, Subject='Re: Plays and other information', Time=None, To='eric.bass@enron.com', X-FileName='ebass.nsf', X-Folder='\\\\Eric_Bass_Dec2000\\\\Notes Folders\\\\Notes inbox', X-From='Michael Simmons', X-Origin='Bass-E', X-To='Eric Bass', X-bcc='', X-cc=''), mailbox='bass-e', subFolder='notes_inbox')"
      ]
     },
     "execution_count": 21,
     "metadata": {},
     "output_type": "execute_result"
    }
   ],
   "source": [
    "messages = spark.read.json(\"messages.json\")\n",
    "print(messages, '\\n')\n",
    "messages.printSchema() # Print the schema\n",
    "print(f'Number of messages: {messages.count()}')\n",
    "messages.first() # Look at the first email message"
   ]
  },
  {
   "cell_type": "markdown",
   "metadata": {},
   "source": [
    "Spark data frames support the use of SQL (extended to allow nested column/property names, e.g. `headers.To`), as shown below. Before doing an SQL query, you must create a \"view\" of the data that can be treated like a table."
   ]
  },
  {
   "cell_type": "code",
   "execution_count": 22,
   "metadata": {},
   "outputs": [
    {
     "data": {
      "text/plain": [
       "[Row(tocount=57828)]"
      ]
     },
     "execution_count": 22,
     "metadata": {},
     "output_type": "execute_result"
    }
   ],
   "source": [
    "messages.createOrReplaceTempView(\"messages\")\n",
    "# Find the total number of message recipients in the data set\n",
    "spark.sql(\"select count(distinct headers.To) tocount from messages\").collect()"
   ]
  },
  {
   "cell_type": "markdown",
   "metadata": {},
   "source": [
    "There are also a range of useful methods we can use on our data frame, for example:"
   ]
  },
  {
   "cell_type": "code",
   "execution_count": 23,
   "metadata": {},
   "outputs": [
    {
     "data": {
      "text/plain": [
       "111"
      ]
     },
     "execution_count": 23,
     "metadata": {},
     "output_type": "execute_result"
    }
   ],
   "source": [
    "# Count emails to louis.soldano@...\n",
    "messages.filter(messages.headers.To == 'louis.soldano@enron.com').count()"
   ]
  },
  {
   "cell_type": "markdown",
   "metadata": {},
   "source": [
    "Now, let's create a data frame with a row for each sender/recipient pair, and a count of how many messages were sent from the sender to the recipient. Note that this may require splitting a single email message with multiple recipients into multiple records, each with a single recipient.\n",
    "This could be done using map-reduce on the RDD underlying the data frame. Here, we do this using the \"Hive SQL\" *lateral view* construct (documented [here](https://docs.databricks.com/spark/latest/spark-sql/language-manual/select.html#lateral-view)) and the `explode` and `split` functions (documented [here](https://spark.apache.org/docs/latest/api/python/pyspark.sql.html#module-pyspark.sql.functions)).\n",
    "\n",
    "The following query creates a new data frame with columns named `sender` and `recipient`. There is a row for each occurrence of a sender-recipient pair in the data set (there may be multiple entries for any given pair). The change of column names from `from` and `to` to `sender` and `recipient` is to avoid confusing Hive SQL, which doesn't like having a column named \"from\"."
   ]
  },
  {
   "cell_type": "code",
   "execution_count": 24,
   "metadata": {},
   "outputs": [
    {
     "name": "stdout",
     "output_type": "stream",
     "text": [
      "root\n",
      " |-- sender: string (nullable = true)\n",
      " |-- recipient: string (nullable = true)\n",
      " |-- count: long (nullable = false)\n",
      "\n",
      "+------------------------+-------------------------+-----+\n",
      "|sender                  |recipient                |count|\n",
      "+------------------------+-------------------------+-----+\n",
      "|pete.davis@enron.com    |pete.davis@enron.com     |9141 |\n",
      "|vince.kaminski@enron.com|vkaminski@aol.com        |4316 |\n",
      "|jeff.dasovich@enron.com |richard.shapiro@enron.com|2898 |\n",
      "|jeff.dasovich@enron.com |paul.kaufman@enron.com   |2768 |\n",
      "|jeff.dasovich@enron.com |susan.mara@enron.com     |2735 |\n",
      "+------------------------+-------------------------+-----+\n",
      "only showing top 5 rows\n",
      "\n"
     ]
    }
   ],
   "source": [
    "sender_recipient_pairs = spark.sql(\"select messages.headers.From as sender, recipient, count(*) as count \"\n",
    "                                   \"from messages lateral view \"\n",
    "                                      \"explode(split(messages.headers.To, '[,\\\\\\\\s]+')) tolist as recipient \"\n",
    "                                   \"group by sender, recipient order by count desc\")\n",
    "sender_recipient_pairs.printSchema()\n",
    "sender_recipient_pairs.show(5, truncate=False)"
   ]
  },
  {
   "cell_type": "markdown",
   "metadata": {},
   "source": [
    "Notice that this data frame includes emails sent or CCed to the sender. Let's get rid of those."
   ]
  },
  {
   "cell_type": "code",
   "execution_count": 25,
   "metadata": {},
   "outputs": [
    {
     "name": "stdout",
     "output_type": "stream",
     "text": [
      "+------------------------+-------------------------+-----+\n",
      "|sender                  |recipient                |count|\n",
      "+------------------------+-------------------------+-----+\n",
      "|vince.kaminski@enron.com|vkaminski@aol.com        |4316 |\n",
      "|jeff.dasovich@enron.com |richard.shapiro@enron.com|2898 |\n",
      "|jeff.dasovich@enron.com |paul.kaufman@enron.com   |2768 |\n",
      "|jeff.dasovich@enron.com |susan.mara@enron.com     |2735 |\n",
      "|jeff.dasovich@enron.com |james.steffes@enron.com  |2711 |\n",
      "+------------------------+-------------------------+-----+\n",
      "only showing top 5 rows\n",
      "\n"
     ]
    }
   ],
   "source": [
    "sender_recipient_pairs.createOrReplaceTempView(\"sender_recipient_pairs\")\n",
    "no_self_mails_sender_recipient_pairs = spark.sql(\"select sender, recipient, count from sender_recipient_pairs \"\n",
    "                                                 \"where sender != recipient\")\n",
    "no_self_mails_sender_recipient_pairs.show(5, truncate=False)"
   ]
  },
  {
   "cell_type": "markdown",
   "metadata": {},
   "source": [
    "Finally, we will use a third-party \"graphframes\" library that will let us view the data as a \"graph\" (or network) with a directed edge between each sender and recipient. First we must create data frames representing the vertices and edges of the graph, and these must have specific column names (`id` for the vertices, and `src` and `dst` for the edges). Then we can search for pairs (a,b) of users that satisfy the \"motif\" (or pattern) `(a)-[]->(b); !(b)-[]->(a)`. This means that there is an edge (i.e. emails were sent) from `a` to `b`, but there is **no** edge from `b` to `a`.\n",
    "\n",
    "You can read about the read about the graphframes library [here](https://graphframes.github.io/graphframes/docs/_site/user-guide.html)."
   ]
  },
  {
   "cell_type": "code",
   "execution_count": 26,
   "metadata": {},
   "outputs": [
    {
     "name": "stdout",
     "output_type": "stream",
     "text": [
      "+---------------------------------------------------------------+---------------------------+\n",
      "|a                                                              |b                          |\n",
      "+---------------------------------------------------------------+---------------------------+\n",
      "|[40enron@enron.com]                                            |[shona.wilson@enron.com]   |\n",
      "|[412170.167547968.1@news.forbesdigital.com]                    |[brapp@enron.com]          |\n",
      "|[6.757.0a-znicpactg56oyau8uoxbt0ev3srr.1@mail3.travelocity.com]|[kholst@enron.com]         |\n",
      "|[a..connor@enron.com]                                          |[peggy.hedstrom@enron.com] |\n",
      "|[aalmgren@capstoneturbine.com]                                 |[senator.morrow@sen.ca.gov]|\n",
      "+---------------------------------------------------------------+---------------------------+\n",
      "only showing top 5 rows\n",
      "\n"
     ]
    }
   ],
   "source": [
    "from graphframes import *\n",
    "no_self_mails_sender_recipient_pairs.createOrReplaceTempView(\"no_self_mails_sender_recipient_pairs\")\n",
    "vertices = spark.sql(\"select sender as id from no_self_mails_sender_recipient_pairs \"\n",
    "                     \"union \"\n",
    "                     \"select recipient from no_self_mails_sender_recipient_pairs\")\n",
    "edges = no_self_mails_sender_recipient_pairs.toDF('src','dst','count')\n",
    "gf = GraphFrame(vertices, edges)\n",
    "gf.find('(a)-[]->(b); !(b)-[]->(a)').show(5, truncate=False)"
   ]
  },
  {
   "cell_type": "markdown",
   "metadata": {},
   "source": [
    "Can you think of other interesting queries to try using `find` and graph motifs? \n",
    "\n",
    "Other useful graph frame attributes and methods (besides `find`) include `inDegrees` (for each user, how many other users have mailed the user), `outDegrees` (for each user, how many other users have been emailed by that user), `pageRank(...)` and `stronglyConnectedComponents(...)`. Note that `inDegrees` and `outDegrees` are graphframe *attributes*: no brackets are added after these.\n",
    "\n",
    "`pageRank(tol=...)` is the original web page ranking algorithm used by Google. In the context of the Enron emails, the results could be interpreted as the probability for each user that a piece of gossip randomly arriving at one of the users will be passed on through a chain of emails to that specified user (See [Wikipedia](https://en.wikipedia.org/wiki/PageRank)). The `tol` parameter specifies how much error can be tolerated (e.g. 0.01). The result of `pageRank` is another graphframe. You can find the page rank for the first vertex using `pageRankResult.vertices.take(1)`.\n",
    "\n",
    "See [Wikipedia](https://en.wikipedia.org/wiki/Strongly_connected_component) for a definition of strongly connected components. Running `stronglyConnectedComponents(maxIter)` on the Enron data (even with our 10% sample) may take a long time, depending on what value you provide for the `maxIter` argument (`maxIter` is the maximum number of iterations to perform). Also, rather than printing the components, it might be best just to count them, using `.count()`."
   ]
  },
  {
   "cell_type": "code",
   "execution_count": 32,
   "metadata": {},
   "outputs": [
    {
     "data": {
      "text/plain": [
       "DataFrame[id: string, outDegree: int]"
      ]
     },
     "execution_count": 32,
     "metadata": {},
     "output_type": "execute_result"
    }
   ],
   "source": [
    "gf.outDegrees"
   ]
  },
  {
   "cell_type": "markdown",
   "metadata": {},
   "source": [
    "Finally, note that we can use graphframes to solve the \"friends in common\" problem. i.e., give a list of *friend* relations between users, for each pair of users, compute who is a friend of both of them. Here we use a small test graphframe so the computation is quick."
   ]
  },
  {
   "cell_type": "code",
   "execution_count": 33,
   "metadata": {},
   "outputs": [
    {
     "name": "stdout",
     "output_type": "stream",
     "text": [
      "+----------------+----------------+------------------------------+\n",
      "|x               |y               |collect_set(z)                |\n",
      "+----------------+----------------+------------------------------+\n",
      "|[a, Alice, 34]  |[e, Esther, 32] |[[f, Fanny, 36]]              |\n",
      "|[e, Esther, 32] |[c, Charlie, 30]|[[f, Fanny, 36]]              |\n",
      "|[f, Fanny, 36]  |[b, Bob, 36]    |[[c, Charlie, 30]]            |\n",
      "|[c, Charlie, 30]|[a, Alice, 34]  |[[f, Fanny, 36], [b, Bob, 36]]|\n",
      "|[e, Esther, 32] |[a, Alice, 34]  |[[f, Fanny, 36]]              |\n",
      "+----------------+----------------+------------------------------+\n",
      "only showing top 5 rows\n",
      "\n"
     ]
    }
   ],
   "source": [
    "import pyspark.sql.functions as F\n",
    "# Vertex DataFrame\n",
    "v = sqlContext.createDataFrame([\n",
    "    (\"a\", \"Alice\", 34),\n",
    "    (\"b\", \"Bob\", 36),\n",
    "    (\"c\", \"Charlie\", 30),\n",
    "    (\"d\", \"David\", 29),\n",
    "    (\"e\", \"Esther\", 32),\n",
    "    (\"f\", \"Fanny\", 36)\n",
    "], [\"id\", \"name\", \"age\"])\n",
    "# Edge DataFrame\n",
    "e = sqlContext.createDataFrame([\n",
    "    (\"a\", \"b\", \"friend\"),\n",
    "    (\"a\", \"f\", \"friend\"),\n",
    "    (\"b\", \"c\", \"friend\"),\n",
    "    (\"c\", \"b\", \"friend\"),\n",
    "    (\"c\", \"f\", \"friend\"),\n",
    "    (\"f\", \"c\", \"friend\"),\n",
    "    (\"e\", \"f\", \"friend\"),\n",
    "    (\"e\", \"d\", \"friend\"),\n",
    "    (\"d\", \"a\", \"friend\")\n",
    "], [\"src\", \"dst\", \"relationship\"])\n",
    "gf2 = GraphFrame(v,e)\n",
    "gf2.find('(x)-[]->(z); (y)-[]->(z)').filter(\"x != y\").groupBy(\"x\", \"y\").agg(F.collect_set(\"z\")).show(5, truncate=False)"
   ]
  },
  {
   "cell_type": "markdown",
   "metadata": {},
   "source": [
    "You may like to explore other graphframes queries using this data. When you have finished with this notebook, follow the instructions in the top cell for closing this notebook (and exporting the output to an HTML file, if you wish)."
   ]
  },
  {
   "cell_type": "markdown",
   "metadata": {},
   "source": [
    "# Reflection\n",
    "\n",
    "In this lab, you have seen how Hadoop's model of map-reduce programming (as discussed in a lecture) is generalised in Apache Spark. Spark's \"resilient distributed dataset\" (RDD) class allows operations such as filter, map, reduce and sort to be applied to a dataset split into multiple partitions due to its size, and these operations can be applied in a chain rather than allowing only a single map and reduce sequence (as in Hadoop). RDDs are read-only, so each operation that performs a computation using data actually creates a new RDD.\n",
    "\n",
    "In Exercise 2, you saw how you can use Spark data frames rather than RDDs, and perform queries on them using an extended versio of SQL. Finally, you also saw some example of an alternative way of viewing data: as a graph (which in this context means a network of nodes and edges that connect them). The graphframes library allowed you to query the Enron dataset using \"motifs\": patterns expressed in terms of nodes and edges. You may have also experimeted with calling graph algorithms such as pageRank on the Enron dataset.\n"
   ]
  }
 ],
 "metadata": {
  "kernelspec": {
   "display_name": "Python 3",
   "language": "python",
   "name": "python3"
  },
  "language_info": {
   "codemirror_mode": {
    "name": "ipython",
    "version": 3
   },
   "file_extension": ".py",
   "mimetype": "text/x-python",
   "name": "python",
   "nbconvert_exporter": "python",
   "pygments_lexer": "ipython3",
   "version": "3.7.5"
  }
 },
 "nbformat": 4,
 "nbformat_minor": 2
}
